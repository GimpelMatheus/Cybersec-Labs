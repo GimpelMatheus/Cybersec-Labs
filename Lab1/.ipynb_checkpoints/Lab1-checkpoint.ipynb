{
 "cells": [
  {
   "cell_type": "markdown",
   "metadata": {},
   "source": [
    "# Lab(01): Classifying Security Vulnerabilities"
   ]
  },
  {
   "cell_type": "markdown",
   "metadata": {},
   "source": [
    "#### Exercise\n",
    "'Now let's train a classifier to classify security vulnerabilities according to their CVSS severity class. The dataset provided below contains the CVSS features and severity for all of the vulnerabilities reported in 2020. The vulnerabilities are separated in four severity classes:'\n",
    "\n",
    "0 = 'LOW'\n",
    "\n",
    "1 = 'MIDDLE'\n",
    "\n",
    "2 = 'HIGH'\n",
    "\n",
    "3 = 'CRITICAL'"
   ]
  },
  {
   "cell_type": "markdown",
   "metadata": {},
   "source": [
    "### Questions \n",
    "#### 1 - Fit the SVM classifier\n",
    "#### 2 - Try out your classifier using the vulnerability below:\n",
    "#### 3 - Use your classifier to classify the test set\n",
    "#### 4 - Compute the final accuracy, precision, and recall on the test set\n",
    "#### 5 - Compute the confusion matrix for the testing set"
   ]
  },
  {
   "cell_type": "markdown",
   "metadata": {},
   "source": [
    "## Importing required libraries"
   ]
  },
  {
   "cell_type": "code",
   "execution_count": 1,
   "metadata": {},
   "outputs": [],
   "source": [
    "import pandas as pd\n",
    "from sklearn import model_selection\n",
    "from sklearn.svm import SVC\n",
    "from sklearn.metrics import confusion_matrix\n",
    "from sklearn.metrics import precision_score, recall_score, accuracy_score\n",
    "import matplotlib.pyplot as plt\n",
    "import matplotlib as mpl"
   ]
  },
  {
   "cell_type": "code",
   "execution_count": 2,
   "metadata": {},
   "outputs": [],
   "source": [
    "def cvss_score(num):\n",
    "    '''Function that returns the severity of the classes \n",
    "    according to the constructed label'''\n",
    "    if cvss == 0:\n",
    "        return \"LOW\"\n",
    "    elif cvss == 1:\n",
    "        return \"MIDDLE\" \n",
    "    elif cvss == 2:\n",
    "        return \"HIGH\"\n",
    "    else: \n",
    "        return \"CRITICAL\""
   ]
  },
  {
   "cell_type": "markdown",
   "metadata": {},
   "source": [
    "## Collecting and Cleaning data\n",
    "\n",
    "#### Even though the database is not necessarily large, the \"Unnamed\" column was considered unnecessary"
   ]
  },
  {
   "cell_type": "code",
   "execution_count": 3,
   "metadata": {},
   "outputs": [
    {
     "data": {
      "text/html": [
       "<div>\n",
       "<style scoped>\n",
       "    .dataframe tbody tr th:only-of-type {\n",
       "        vertical-align: middle;\n",
       "    }\n",
       "\n",
       "    .dataframe tbody tr th {\n",
       "        vertical-align: top;\n",
       "    }\n",
       "\n",
       "    .dataframe thead th {\n",
       "        text-align: right;\n",
       "    }\n",
       "</style>\n",
       "<table border=\"1\" class=\"dataframe\">\n",
       "  <thead>\n",
       "    <tr style=\"text-align: right;\">\n",
       "      <th></th>\n",
       "      <th>attackVector</th>\n",
       "      <th>attackComplexity</th>\n",
       "      <th>privilegesRequired</th>\n",
       "      <th>userInteraction</th>\n",
       "      <th>confidentialityImpact</th>\n",
       "      <th>integrityImpact</th>\n",
       "      <th>availabilityImpact</th>\n",
       "      <th>label</th>\n",
       "    </tr>\n",
       "  </thead>\n",
       "  <tbody>\n",
       "    <tr>\n",
       "      <th>0</th>\n",
       "      <td>0.55</td>\n",
       "      <td>0.44</td>\n",
       "      <td>0.62</td>\n",
       "      <td>0.85</td>\n",
       "      <td>0.66</td>\n",
       "      <td>0.66</td>\n",
       "      <td>0.66</td>\n",
       "      <td>2</td>\n",
       "    </tr>\n",
       "    <tr>\n",
       "      <th>1</th>\n",
       "      <td>0.85</td>\n",
       "      <td>0.44</td>\n",
       "      <td>0.85</td>\n",
       "      <td>0.62</td>\n",
       "      <td>0.66</td>\n",
       "      <td>0.66</td>\n",
       "      <td>0.66</td>\n",
       "      <td>2</td>\n",
       "    </tr>\n",
       "    <tr>\n",
       "      <th>2</th>\n",
       "      <td>0.55</td>\n",
       "      <td>0.77</td>\n",
       "      <td>0.62</td>\n",
       "      <td>0.62</td>\n",
       "      <td>0.66</td>\n",
       "      <td>0.66</td>\n",
       "      <td>0.66</td>\n",
       "      <td>1</td>\n",
       "    </tr>\n",
       "    <tr>\n",
       "      <th>3</th>\n",
       "      <td>0.55</td>\n",
       "      <td>0.44</td>\n",
       "      <td>0.62</td>\n",
       "      <td>0.85</td>\n",
       "      <td>0.00</td>\n",
       "      <td>0.00</td>\n",
       "      <td>0.66</td>\n",
       "      <td>1</td>\n",
       "    </tr>\n",
       "    <tr>\n",
       "      <th>4</th>\n",
       "      <td>0.55</td>\n",
       "      <td>0.44</td>\n",
       "      <td>0.27</td>\n",
       "      <td>0.85</td>\n",
       "      <td>0.66</td>\n",
       "      <td>0.66</td>\n",
       "      <td>0.66</td>\n",
       "      <td>1</td>\n",
       "    </tr>\n",
       "    <tr>\n",
       "      <th>5</th>\n",
       "      <td>0.85</td>\n",
       "      <td>0.44</td>\n",
       "      <td>0.85</td>\n",
       "      <td>0.62</td>\n",
       "      <td>0.66</td>\n",
       "      <td>0.00</td>\n",
       "      <td>0.00</td>\n",
       "      <td>1</td>\n",
       "    </tr>\n",
       "    <tr>\n",
       "      <th>6</th>\n",
       "      <td>0.55</td>\n",
       "      <td>0.44</td>\n",
       "      <td>0.62</td>\n",
       "      <td>0.85</td>\n",
       "      <td>0.66</td>\n",
       "      <td>0.00</td>\n",
       "      <td>0.00</td>\n",
       "      <td>1</td>\n",
       "    </tr>\n",
       "    <tr>\n",
       "      <th>7</th>\n",
       "      <td>0.55</td>\n",
       "      <td>0.77</td>\n",
       "      <td>0.62</td>\n",
       "      <td>0.85</td>\n",
       "      <td>0.66</td>\n",
       "      <td>0.00</td>\n",
       "      <td>0.00</td>\n",
       "      <td>1</td>\n",
       "    </tr>\n",
       "    <tr>\n",
       "      <th>8</th>\n",
       "      <td>0.55</td>\n",
       "      <td>0.44</td>\n",
       "      <td>0.62</td>\n",
       "      <td>0.85</td>\n",
       "      <td>0.00</td>\n",
       "      <td>0.66</td>\n",
       "      <td>0.00</td>\n",
       "      <td>1</td>\n",
       "    </tr>\n",
       "    <tr>\n",
       "      <th>9</th>\n",
       "      <td>0.55</td>\n",
       "      <td>0.44</td>\n",
       "      <td>0.27</td>\n",
       "      <td>0.85</td>\n",
       "      <td>0.66</td>\n",
       "      <td>0.66</td>\n",
       "      <td>0.66</td>\n",
       "      <td>1</td>\n",
       "    </tr>\n",
       "  </tbody>\n",
       "</table>\n",
       "</div>"
      ],
      "text/plain": [
       "   attackVector  attackComplexity  privilegesRequired  userInteraction  \\\n",
       "0          0.55              0.44                0.62             0.85   \n",
       "1          0.85              0.44                0.85             0.62   \n",
       "2          0.55              0.77                0.62             0.62   \n",
       "3          0.55              0.44                0.62             0.85   \n",
       "4          0.55              0.44                0.27             0.85   \n",
       "5          0.85              0.44                0.85             0.62   \n",
       "6          0.55              0.44                0.62             0.85   \n",
       "7          0.55              0.77                0.62             0.85   \n",
       "8          0.55              0.44                0.62             0.85   \n",
       "9          0.55              0.44                0.27             0.85   \n",
       "\n",
       "   confidentialityImpact  integrityImpact  availabilityImpact  label  \n",
       "0                   0.66             0.66                0.66      2  \n",
       "1                   0.66             0.66                0.66      2  \n",
       "2                   0.66             0.66                0.66      1  \n",
       "3                   0.00             0.00                0.66      1  \n",
       "4                   0.66             0.66                0.66      1  \n",
       "5                   0.66             0.00                0.00      1  \n",
       "6                   0.66             0.00                0.00      1  \n",
       "7                   0.66             0.00                0.00      1  \n",
       "8                   0.00             0.66                0.00      1  \n",
       "9                   0.66             0.66                0.66      1  "
      ]
     },
     "execution_count": 3,
     "metadata": {},
     "output_type": "execute_result"
    }
   ],
   "source": [
    "cvss_data = pd.read_csv('2020cvss.csv')\n",
    "cvss_data = cvss_data.drop(columns=[\"Unnamed: 0\"])\n",
    "cvss_data.head(10)"
   ]
  },
  {
   "cell_type": "markdown",
   "metadata": {},
   "source": [
    "### Spliting the data into training database and test database "
   ]
  },
  {
   "cell_type": "code",
   "execution_count": 4,
   "metadata": {},
   "outputs": [],
   "source": [
    "inputs_train, inputs_test, labels_train, labels_test = model_selection.train_test_split(\n",
    "      cvss_data[[\"attackVector\", \"attackComplexity\", \"privilegesRequired\", \"userInteraction\", \"confidentialityImpact\", \"integrityImpact\", \"availabilityImpact\"]].values,\n",
    "      cvss_data['label'].values,\n",
    "      test_size=0.2\n",
    "    )"
   ]
  },
  {
   "cell_type": "code",
   "execution_count": 5,
   "metadata": {},
   "outputs": [
    {
     "name": "stdout",
     "output_type": "stream",
     "text": [
      "Training set size: (11452, 7)\n",
      "Test set size: (2863, 7)\n"
     ]
    }
   ],
   "source": [
    "print(\"Training set size:\", inputs_train.shape)\n",
    "print(\"Test set size:\", inputs_test.shape)"
   ]
  },
  {
   "cell_type": "markdown",
   "metadata": {},
   "source": [
    "### Fitting the SVM classifier "
   ]
  },
  {
   "cell_type": "code",
   "execution_count": 6,
   "metadata": {},
   "outputs": [
    {
     "data": {
      "text/plain": [
       "SVC(kernel='linear')"
      ]
     },
     "execution_count": 6,
     "metadata": {},
     "output_type": "execute_result"
    }
   ],
   "source": [
    "# Selecting the classifier we want to use\n",
    "svm = SVC(kernel=\"linear\")\n",
    "\n",
    "# Learning (or training our model) based on inputs and labels from our dataset\n",
    "svm.fit(inputs_train, labels_train)"
   ]
  },
  {
   "cell_type": "markdown",
   "metadata": {},
   "source": [
    "### Doing some tests with the data\n",
    "#### Try out your classifier using the vulnerability below:\n",
    "vulnerability = [[0.85, 0.44, 0.27, 0.85, 0.66, 0., 0.]]"
   ]
  },
  {
   "cell_type": "code",
   "execution_count": 7,
   "metadata": {},
   "outputs": [
    {
     "name": "stdout",
     "output_type": "stream",
     "text": [
      "HIGH\n"
     ]
    }
   ],
   "source": [
    "#0.55\t0.44\t0.62\t0.85\t0.66\t0.66\t0.66\n",
    "cvss = svm.predict([[0.55,0.44,0.62,0.85,0.66,0.66,0.66]])\n",
    "cvss = cvss_score(cvss)\n",
    "print(cvss)"
   ]
  },
  {
   "cell_type": "code",
   "execution_count": 8,
   "metadata": {},
   "outputs": [
    {
     "name": "stdout",
     "output_type": "stream",
     "text": [
      "MIDDLE\n"
     ]
    }
   ],
   "source": [
    "#0.55\t0.44\t0.27\t0.85\t0.66\t0.66\t0.66\n",
    "cvss = svm.predict([[0.55,0.44,0.27,0.85,0.66,0.66,0.66]])\n",
    "cvss = cvss_score(cvss)\n",
    "print(cvss)"
   ]
  },
  {
   "cell_type": "code",
   "execution_count": 9,
   "metadata": {},
   "outputs": [
    {
     "name": "stdout",
     "output_type": "stream",
     "text": [
      "HIGH\n"
     ]
    }
   ],
   "source": [
    "vulnerability = [[0.85, 0.44, 0.27, 0.85, 0.66, 0.66, 0.66]]\n",
    "cvss = svm.predict(vulnerability)\n",
    "cvss = cvss_score(cvss)\n",
    "print(cvss)"
   ]
  },
  {
   "cell_type": "code",
   "execution_count": 10,
   "metadata": {},
   "outputs": [
    {
     "name": "stdout",
     "output_type": "stream",
     "text": [
      "MIDDLE\n"
     ]
    }
   ],
   "source": [
    "vulnerability = [[0.85, 0.44, 0.27, 0.85, 0.66, 0.0, 0.0]]\n",
    "cvss = svm.predict(vulnerability)\n",
    "cvss = cvss_score(cvss)\n",
    "print(cvss)\n"
   ]
  },
  {
   "cell_type": "code",
   "execution_count": 22,
   "metadata": {},
   "outputs": [
    {
     "data": {
      "image/png": "[encoded data removed]",
      "text/plain": [
       "<Figure size 864x720 with 1 Axes>"
      ]
     },
     "metadata": {
      "needs_background": "light"
     },
     "output_type": "display_data"
    }
   ],
   "source": [
    "mpl.rcParams['lines.markersize'] = 12\n",
    "\n",
    "# Plotting data\n",
    "plt.figure(figsize=(12, 10))\n",
    "\n",
    "plt.scatter(inputs_train[labels_train==0, 1] + inputs_train[labels_train==0, 2]\n",
    "             + inputs_train[labels_train==0, 3],inputs_train[labels_train==0, 0], c='green', label='Low')\n",
    "\n",
    "plt.scatter(inputs_train[labels_train==1, 0] + inputs_train[labels_train==1, 2]\n",
    "            + inputs_train[labels_train==1, 3], inputs_train[labels_train==1, 1],c='blue',label='Middle')\n",
    "\n",
    "plt.scatter(inputs_train[labels_train==2, 0] + inputs_train[labels_train==2, 1]\n",
    "            + inputs_train[labels_train==2, 3],inputs_train[labels_train==2, 2],c='orange',label='High')\n",
    "\n",
    "plt.scatter(inputs_train[labels_train==3, 0] + inputs_train[labels_train==3, 1]\n",
    "            +inputs_train[labels_train==3, 2],inputs_train[labels_train==3, 3],c='red',label='Critical')\n",
    "\n",
    "\n",
    "plt.scatter(inputs_test[labels_test==0, 1] + inputs_test[labels_test==0, 2]\n",
    "            + inputs_test[labels_test==0, 3],inputs_test[labels_test==0, 0], c='green', label='Low Test'\n",
    "           ,marker='*')\n",
    "\n",
    "plt.scatter(inputs_test[labels_test==1, 0] + inputs_test[labels_test==1, 2]\n",
    "            + inputs_test[labels_test==1, 3],inputs_test[labels_test==1, 1], c='blue', label='Middle Test'\n",
    "           ,marker='*')\n",
    "\n",
    "plt.scatter(inputs_test[labels_test==2, 0] + inputs_test[labels_test==2, 1]\n",
    "            + inputs_test[labels_test==2, 3],inputs_test[labels_test==2, 2],c='orange',label='High Test'\n",
    "           ,marker='*')\n",
    "\n",
    "\n",
    "plt.scatter(inputs_test[labels_test==3, 0] + inputs_test[labels_test==3, 1] \n",
    "            +inputs_test[labels_test==3, 2],inputs_test[labels_test==3, 3],c='red', label='Critical Test'\n",
    "           ,marker='*')\n",
    "\n",
    "plt.legend()\n",
    "plt.show()"
   ]
  },
  {
   "cell_type": "code",
   "execution_count": null,
   "metadata": {},
   "outputs": [],
   "source": []
  },
  {
   "cell_type": "markdown",
   "metadata": {},
   "source": [
    "## Use your classifier to classify the test set"
   ]
  },
  {
   "cell_type": "code",
   "execution_count": 11,
   "metadata": {},
   "outputs": [
    {
     "name": "stdout",
     "output_type": "stream",
     "text": [
      "SVM Test Set Score:\n",
      "95.91337757596926\n"
     ]
    }
   ],
   "source": [
    "classifications = svm.predict(inputs_test)\n",
    "print(\"SVM Test Set Score:\")\n",
    "print(accuracy_score(labels_test, classifications)*100)"
   ]
  },
  {
   "cell_type": "markdown",
   "metadata": {},
   "source": [
    "## Compute the final accuracy, precision, and recall on the test set"
   ]
  },
  {
   "cell_type": "markdown",
   "metadata": {},
   "source": [
    "### Precision and Recall\n",
    "The following metrics can be calculated from the confusion matrix\n",
    "\n",
    "> $precision = \\frac{TP}{(TP + FP)}$\n",
    "\n",
    "> $recall = \\frac{TP}{(TP + FN)}$\n",
    "\n",
    "These metrics can be seen as the answers to these questions:\n",
    "\n",
    "> $precision = $ out of all the samples assigned class 1, how many really belonged to class 1?\n",
    "\n",
    "> $recall = $ out of all samples in class 1, how many did the model correctly classify?\n",
    "\n",
    "> $macro = $ Calculate metrics for each label, and find their unweighted mean. This does not take label imbalance into account.\n",
    "\n",
    "These metrics can be computed separately for each class or averaged for all classes."
   ]
  },
  {
   "cell_type": "code",
   "execution_count": 12,
   "metadata": {},
   "outputs": [
    {
     "name": "stdout",
     "output_type": "stream",
     "text": [
      "Precision: 0.97\n",
      "Recall: 0.92\n"
     ]
    }
   ],
   "source": [
    "print('Precision:', '{:0.2f}'.format(precision_score(labels_test, classifications,average='macro')))\n",
    "print('Recall:', '{:0.2f}'.format(recall_score(labels_test, classifications, average='macro')))"
   ]
  },
  {
   "cell_type": "markdown",
   "metadata": {},
   "source": [
    "#### According to the precision_score and recall_score result we can affirmative say that we have a good lead at classifying vulnerabilities"
   ]
  },
  {
   "cell_type": "markdown",
   "metadata": {},
   "source": [
    "## Compute the confusion matrix for the testing set "
   ]
  },
  {
   "cell_type": "markdown",
   "metadata": {},
   "source": [
    "By definition a confusion matrix C is such that Cij is equal to the number of observations known to be in group i and predicted to be in group j.\n",
    "\n",
    "Thus in binary classification, the count of true negatives is C(0,0), false negatives is C(1,0), true positives is  C(1,1) and false positives is C(0,1)."
   ]
  },
  {
   "cell_type": "markdown",
   "metadata": {},
   "source": [
    "According to the confusion_matrix we can confirm the result that we have a good lead at classifying vulnerabilities"
   ]
  },
  {
   "cell_type": "code",
   "execution_count": 13,
   "metadata": {},
   "outputs": [
    {
     "data": {
      "text/plain": [
       "array([[  56,   11,    0,    0],\n",
       "       [   2, 1130,   30,    0],\n",
       "       [   0,   39, 1192,    0],\n",
       "       [   0,    0,   35,  368]])"
      ]
     },
     "execution_count": 13,
     "metadata": {},
     "output_type": "execute_result"
    }
   ],
   "source": [
    "confusion_matrix(labels_test, classifications)"
   ]
  },
  {
   "cell_type": "markdown",
   "metadata": {},
   "source": [
    "Label precision according to confusion matrix\n",
    "\n",
    "> $1 = $ 81,15% \n",
    "\n",
    "> $2 = $ 97,24%\n",
    "\n",
    "> $3 = $ 96,92%\n",
    "\n",
    "> $4 = $ 90,17% "
   ]
  }
 ],
 "metadata": {
  "kernelspec": {
   "display_name": "Python 3",
   "language": "python",
   "name": "python3"
  },
  "language_info": {
   "codemirror_mode": {
    "name": "ipython",
    "version": 3
   },
   "file_extension": ".py",
   "mimetype": "text/x-python",
   "name": "python",
   "nbconvert_exporter": "python",
   "pygments_lexer": "ipython3",
   "version": "3.8.5"
  }
 },
 "nbformat": 4,
 "nbformat_minor": 4
}
